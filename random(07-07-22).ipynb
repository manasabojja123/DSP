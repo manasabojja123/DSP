{
 "cells": [
  {
   "cell_type": "code",
   "execution_count": 27,
   "id": "7cce95d3",
   "metadata": {},
   "outputs": [
    {
     "name": "stdout",
     "output_type": "stream",
     "text": [
      "6485162\n",
      "0.03634737918420694\n",
      "[0.42808847 0.83446216 0.1231097  0.86071442 0.3996358  0.57024204]\n",
      "[96 40 63 67  9 35 71 74 46 94]\n",
      "[[854 863 678 457 565]\n",
      " [346 933 640 662 793]\n",
      " [280  16 625 401   8]]\n"
     ]
    }
   ],
   "source": [
    "from numpy import random\n",
    "x=random.randint(10000000)#int\n",
    "print(x)\n",
    "y=random.rand()#float\n",
    "z=random.rand(6)#list of float\n",
    "print(y)\n",
    "print(z)\n",
    "a=random.randint(100,size=(10))#array\n",
    "print(a)\n",
    "b=random.randint(1000,size=(3,5))#2d array\n",
    "print(b)\n"
   ]
  },
  {
   "cell_type": "code",
   "execution_count": 28,
   "id": "4c60d9f4",
   "metadata": {},
   "outputs": [
    {
     "name": "stdout",
     "output_type": "stream",
     "text": [
      "74\n"
     ]
    }
   ],
   "source": [
    "import numpy as np\n",
    "x=np.random.randint(100)\n",
    "print(x)"
   ]
  },
  {
   "cell_type": "code",
   "execution_count": 25,
   "id": "d9cf3f2a",
   "metadata": {},
   "outputs": [
    {
     "name": "stdout",
     "output_type": "stream",
     "text": [
      "50\n",
      "[[[ 6 80 80 90 90]\n",
      "  [90  6 90 90 70]\n",
      "  [70  6 50 50 50]\n",
      "  [50 70 50  6 50]]\n",
      "\n",
      " [[90 50 90 70  6]\n",
      "  [ 6 80 50 90 50]\n",
      "  [90 50 80 50  6]\n",
      "  [70 50  6 50 70]]\n",
      "\n",
      " [[80 80 50 80 80]\n",
      "  [90  6 50 70 70]\n",
      "  [ 6  6 90 90 70]\n",
      "  [ 6 90  6 80 70]]]\n"
     ]
    }
   ],
   "source": [
    "x=random.choice([90,80,70,6,50])\n",
    "print(x)\n",
    "y=random.choice([90,80,70,6,50],size=(3,4,5))\n",
    "print(y)"
   ]
  },
  {
   "cell_type": "code",
   "execution_count": 30,
   "id": "d1182842",
   "metadata": {},
   "outputs": [
    {
     "name": "stdout",
     "output_type": "stream",
     "text": [
      "[3 5 5 5 2 3 5 3 3 3 5 2 5 5 3 2 2 2 5 5 3 5 3 3 3 5 5 5 2 5 5 2 3 5 5 3 5\n",
      " 2 3 3 5 5 3 5 5 5 3 3 3 3]\n"
     ]
    }
   ],
   "source": [
    "from numpy import random#basedon the probability\n",
    "x=random.choice([2,3,4,5],p=[0.1,0.5,0.0,0.4],size=50)\n",
    "print(x)"
   ]
  },
  {
   "cell_type": "code",
   "execution_count": 32,
   "id": "c0259996",
   "metadata": {},
   "outputs": [
    {
     "name": "stdout",
     "output_type": "stream",
     "text": [
      "[[5 5 3 3 5]\n",
      " [5 3 3 3 3]\n",
      " [2 3 5 3 3]]\n"
     ]
    }
   ],
   "source": [
    "x=random.choice([2,3,4,5],p=[0.1,0.5,0.0,0.4],size=(3,5))\n",
    "print(x)"
   ]
  },
  {
   "cell_type": "code",
   "execution_count": 39,
   "id": "aa29e7a6",
   "metadata": {},
   "outputs": [
    {
     "name": "stdout",
     "output_type": "stream",
     "text": [
      "[3 1 2 4]\n"
     ]
    }
   ],
   "source": [
    "import numpy as np\n",
    "a=np.array([1,2,3,4])\n",
    "random.shuffle(a)\n",
    "print(a)"
   ]
  },
  {
   "cell_type": "code",
   "execution_count": 40,
   "id": "ac00baca",
   "metadata": {},
   "outputs": [
    {
     "name": "stdout",
     "output_type": "stream",
     "text": [
      "[3 1 2 4]\n"
     ]
    }
   ],
   "source": [
    "random.permutation(a)\n",
    "print(a)"
   ]
  },
  {
   "cell_type": "code",
   "execution_count": null,
   "id": "d76c6f7c",
   "metadata": {},
   "outputs": [],
   "source": []
  }
 ],
 "metadata": {
  "kernelspec": {
   "display_name": "Python 3 (ipykernel)",
   "language": "python",
   "name": "python3"
  },
  "language_info": {
   "codemirror_mode": {
    "name": "ipython",
    "version": 3
   },
   "file_extension": ".py",
   "mimetype": "text/x-python",
   "name": "python",
   "nbconvert_exporter": "python",
   "pygments_lexer": "ipython3",
   "version": "3.10.5"
  }
 },
 "nbformat": 4,
 "nbformat_minor": 5
}
