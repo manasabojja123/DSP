{
 "cells": [
  {
   "cell_type": "code",
   "execution_count": 1,
   "id": "c2c7c704",
   "metadata": {},
   "outputs": [
    {
     "name": "stdout",
     "output_type": "stream",
     "text": [
      "[[ 3 12 18 28]\n",
      " [ 4 15 24 35]]\n"
     ]
    }
   ],
   "source": [
    "import numpy as np\n",
    "a=np.array([[1,2,3,4],[2,3,4,5]])\n",
    "b=np.array([[3,6,6,7],[2,5,6,7]])\n",
    "print(np.multiply(a,b))"
   ]
  },
  {
   "cell_type": "code",
   "execution_count": 2,
   "id": "dbe96d16",
   "metadata": {},
   "outputs": [
    {
     "name": "stdout",
     "output_type": "stream",
     "text": [
      "[[ 0  1  2  3  4]\n",
      " [ 5  6  7  8  9]\n",
      " [10 11 12 13 14]\n",
      " [15 16 17 18 19]\n",
      " [20 21 22 23 24]]\n"
     ]
    }
   ],
   "source": [
    "#5*5\n",
    "num=np.arange(25).reshape(-1,5)\n",
    "print(num)"
   ]
  },
  {
   "cell_type": "code",
   "execution_count": 3,
   "id": "fc1fec04",
   "metadata": {},
   "outputs": [],
   "source": [
    "n=num[:,::-1]"
   ]
  },
  {
   "cell_type": "code",
   "execution_count": 4,
   "id": "d2de0374",
   "metadata": {},
   "outputs": [
    {
     "data": {
      "text/plain": [
       "array([[ 4,  3,  2,  1,  0],\n",
       "       [ 9,  8,  7,  6,  5],\n",
       "       [14, 13, 12, 11, 10],\n",
       "       [19, 18, 17, 16, 15],\n",
       "       [24, 23, 22, 21, 20]])"
      ]
     },
     "execution_count": 4,
     "metadata": {},
     "output_type": "execute_result"
    }
   ],
   "source": [
    "n"
   ]
  },
  {
   "cell_type": "code",
   "execution_count": 5,
   "id": "b49e5883",
   "metadata": {},
   "outputs": [],
   "source": [
    "k=num[::-1,::-1]"
   ]
  },
  {
   "cell_type": "code",
   "execution_count": 6,
   "id": "269f3979",
   "metadata": {},
   "outputs": [
    {
     "data": {
      "text/plain": [
       "array([[24, 23, 22, 21, 20],\n",
       "       [19, 18, 17, 16, 15],\n",
       "       [14, 13, 12, 11, 10],\n",
       "       [ 9,  8,  7,  6,  5],\n",
       "       [ 4,  3,  2,  1,  0]])"
      ]
     },
     "execution_count": 6,
     "metadata": {},
     "output_type": "execute_result"
    }
   ],
   "source": [
    "k"
   ]
  },
  {
   "cell_type": "code",
   "execution_count": 7,
   "id": "47306194",
   "metadata": {},
   "outputs": [
    {
     "name": "stdout",
     "output_type": "stream",
     "text": [
      "[[0 0 0 0 0]\n",
      " [0 0 0 0 0]\n",
      " [0 0 0 0 0]\n",
      " [0 0 0 0 0]\n",
      " [0 0 0 0 0]]\n",
      "int32\n"
     ]
    }
   ],
   "source": [
    "import numpy as np\n",
    "x=np.zeros_like(k)\n",
    "print(x)\n",
    "print(x.dtype)\n",
    "\n"
   ]
  },
  {
   "cell_type": "code",
   "execution_count": 8,
   "id": "d9b394ae",
   "metadata": {},
   "outputs": [
    {
     "name": "stdout",
     "output_type": "stream",
     "text": [
      "[[1 2 3 4]\n",
      " [5 3 3 8]\n",
      " [3 7 9 3]]\n",
      "[['1' '2' 'manasa' '4']\n",
      " ['5' 'manasa' 'manasa' '8']\n",
      " ['manasa' '7' '9' 'manasa']]\n",
      "[['1' '2' '3' 'manasa']\n",
      " ['manasa' '3' '3' 'manasa']\n",
      " ['3' 'manasa' 'manasa' '3']]\n",
      "[['manasa' 'manasa' '3' '4']\n",
      " ['5' '3' '3' '8']\n",
      " ['3' '7' '9' '3']]\n"
     ]
    }
   ],
   "source": [
    "num=np.array([[1,2,3,4],[5,3,3,8],[3,7,9,3]])\n",
    "print(num)\n",
    "n=3\n",
    "r=\"manasa\"\n",
    "print(np.where(num==n,r,num))\n",
    "print(np.where(num>n,r,num))\n",
    "print(np.where(num<n,r,num))\n"
   ]
  },
  {
   "cell_type": "code",
   "execution_count": 9,
   "id": "7e425798",
   "metadata": {},
   "outputs": [
    {
     "name": "stdout",
     "output_type": "stream",
     "text": [
      "[4 5 8 7 9]\n"
     ]
    }
   ],
   "source": [
    "print(num[num>n])"
   ]
  },
  {
   "cell_type": "code",
   "execution_count": 10,
   "id": "087f399e",
   "metadata": {},
   "outputs": [
    {
     "name": "stdout",
     "output_type": "stream",
     "text": [
      "[[1 2 3 4]\n",
      " [5 3 3 8]\n",
      " [3 7 9 3]]\n"
     ]
    }
   ],
   "source": [
    "print(num)"
   ]
  },
  {
   "cell_type": "code",
   "execution_count": 11,
   "id": "cf669a74",
   "metadata": {},
   "outputs": [
    {
     "name": "stdout",
     "output_type": "stream",
     "text": [
      "[[1 2 3 4]\n",
      " [3 3 5 8]\n",
      " [3 3 7 9]]\n"
     ]
    }
   ],
   "source": [
    "#sort through rows\n",
    "print(np.sort(num))"
   ]
  },
  {
   "cell_type": "code",
   "execution_count": 12,
   "id": "01c67b0d",
   "metadata": {},
   "outputs": [
    {
     "name": "stdout",
     "output_type": "stream",
     "text": [
      "[[1 2 3 3]\n",
      " [3 3 3 4]\n",
      " [5 7 9 8]]\n"
     ]
    }
   ],
   "source": [
    "#sort through column\n",
    "print(np.sort(num,axis=0))"
   ]
  },
  {
   "cell_type": "code",
   "execution_count": 13,
   "id": "d75ffca3",
   "metadata": {},
   "outputs": [
    {
     "name": "stdout",
     "output_type": "stream",
     "text": [
      "[[0. 0. 0. 0. 0. 0.]\n",
      " [0. 0. 0. 0. 0. 0.]\n",
      " [0. 0. 0. 0. 0. 0.]\n",
      " [0. 0. 0. 0. 0. 0.]\n",
      " [0. 0. 0. 0. 0. 0.]]\n"
     ]
    }
   ],
   "source": [
    "print(np.zeros(shape=(5,6)))"
   ]
  },
  {
   "cell_type": "code",
   "execution_count": 14,
   "id": "03396414",
   "metadata": {},
   "outputs": [
    {
     "name": "stdout",
     "output_type": "stream",
     "text": [
      "[50 49 48 47 46 45 44 43 42 41 40 39 38 37 36 35 34 33 32 31 30 29 28 27\n",
      " 26 25 24 23 22 21 20 19 18 17 16 15 14 13 12 11 10  9  8  7  6  5  4  3\n",
      "  2  1]\n"
     ]
    }
   ],
   "source": [
    "#reversing an array\n",
    "import numpy as np\n",
    "a=np.arange(1,51)\n",
    "a\n",
    "print(a[::-1])"
   ]
  },
  {
   "cell_type": "code",
   "execution_count": null,
   "id": "d30bd214",
   "metadata": {},
   "outputs": [],
   "source": []
  },
  {
   "cell_type": "code",
   "execution_count": 15,
   "id": "c1b12935",
   "metadata": {},
   "outputs": [],
   "source": [
    "n=a.astype(\"float\")"
   ]
  },
  {
   "cell_type": "code",
   "execution_count": 16,
   "id": "d3871aa1",
   "metadata": {},
   "outputs": [
    {
     "data": {
      "text/plain": [
       "array([ 1.,  2.,  3.,  4.,  5.,  6.,  7.,  8.,  9., 10., 11., 12., 13.,\n",
       "       14., 15., 16., 17., 18., 19., 20., 21., 22., 23., 24., 25., 26.,\n",
       "       27., 28., 29., 30., 31., 32., 33., 34., 35., 36., 37., 38., 39.,\n",
       "       40., 41., 42., 43., 44., 45., 46., 47., 48., 49., 50.])"
      ]
     },
     "execution_count": 16,
     "metadata": {},
     "output_type": "execute_result"
    }
   ],
   "source": [
    "n"
   ]
  },
  {
   "cell_type": "code",
   "execution_count": 17,
   "id": "118b7a23",
   "metadata": {},
   "outputs": [
    {
     "name": "stdout",
     "output_type": "stream",
     "text": [
      "[[1. 1. 1. 1.]\n",
      " [1. 1. 1. 1.]\n",
      " [1. 1. 1. 1.]\n",
      " [1. 1. 1. 1.]]\n",
      "[[2. 2. 2. 2. 2. 2. 2. 2.]\n",
      " [2. 2. 2. 2. 2. 2. 2. 2.]\n",
      " [2. 2. 1. 1. 1. 1. 2. 2.]\n",
      " [2. 2. 1. 1. 1. 1. 2. 2.]\n",
      " [2. 2. 1. 1. 1. 1. 2. 2.]\n",
      " [2. 2. 1. 1. 1. 1. 2. 2.]\n",
      " [2. 2. 2. 2. 2. 2. 2. 2.]\n",
      " [2. 2. 2. 2. 2. 2. 2. 2.]]\n"
     ]
    }
   ],
   "source": [
    "#adding border\n",
    "x=np.ones((4,4))\n",
    "print(x)\n",
    "y=np.pad(x,pad_width=2,mode=\"constant\",constant_values=2)\n",
    "print(y)"
   ]
  },
  {
   "cell_type": "code",
   "execution_count": 18,
   "id": "ad098d21",
   "metadata": {},
   "outputs": [
    {
     "name": "stdout",
     "output_type": "stream",
     "text": [
      "[ 1.  2.  3.  4.  5.  6.  7.  8.  9. 10. 11. 12. 13. 14. 15. 16. 17. 18.\n",
      " 19. 20. 21. 22. 23. 24. 25. 26. 27. 28. 29. 30. 31. 32. 33. 34. 35. 36.\n",
      " 37. 38. 39. 40. 41. 42. 43. 44. 45. 46. 47. 48. 49. 50.  1.  1.  1.  1.\n",
      "  1.  1.  1.  1.  1.  1.  1.  1.  1.  1.  1.  1.]\n"
     ]
    }
   ],
   "source": [
    "z=np.append(a,x)\n",
    "print(z)"
   ]
  },
  {
   "cell_type": "code",
   "execution_count": 19,
   "id": "8eb103dd",
   "metadata": {},
   "outputs": [],
   "source": [
    "x=np.empty((3,4))\n",
    "y=np.full((3,4),7)"
   ]
  },
  {
   "cell_type": "code",
   "execution_count": 20,
   "id": "9474e09d",
   "metadata": {},
   "outputs": [
    {
     "name": "stdout",
     "output_type": "stream",
     "text": [
      "[[1.52791995e-311 2.47032823e-322 0.00000000e+000 0.00000000e+000]\n",
      " [2.67017691e-306 6.82116729e-043 6.56447986e-091 9.41706232e-047]\n",
      " [1.29164936e+160 1.69340608e-052 3.99910963e+252 4.93432906e+257]]\n",
      "[[7 7 7 7]\n",
      " [7 7 7 7]\n",
      " [7 7 7 7]]\n"
     ]
    }
   ],
   "source": [
    "print(x)\n",
    "print(y)"
   ]
  },
  {
   "cell_type": "code",
   "execution_count": null,
   "id": "086605d0",
   "metadata": {},
   "outputs": [],
   "source": []
  }
 ],
 "metadata": {
  "kernelspec": {
   "display_name": "Python 3 (ipykernel)",
   "language": "python",
   "name": "python3"
  },
  "language_info": {
   "codemirror_mode": {
    "name": "ipython",
    "version": 3
   },
   "file_extension": ".py",
   "mimetype": "text/x-python",
   "name": "python",
   "nbconvert_exporter": "python",
   "pygments_lexer": "ipython3",
   "version": "3.10.5"
  }
 },
 "nbformat": 4,
 "nbformat_minor": 5
}
