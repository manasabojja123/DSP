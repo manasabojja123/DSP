{
 "cells": [
  {
   "cell_type": "code",
   "execution_count": 1,
   "id": "2ba44ad7",
   "metadata": {},
   "outputs": [
    {
     "name": "stdout",
     "output_type": "stream",
     "text": [
      "[ 4  5  6  9 12]\n",
      "[[ 4]\n",
      " [ 5]\n",
      " [ 6]\n",
      " [ 9]\n",
      " [12]]\n",
      "[2 5 6 7 9]\n"
     ]
    },
    {
     "data": {
      "image/png": "[encoded data removed]",
      "text/plain": [
       "<Figure size 432x288 with 1 Axes>"
      ]
     },
     "metadata": {
      "needs_background": "light"
     },
     "output_type": "display_data"
    }
   ],
   "source": [
    "import numpy as np\n",
    "import pandas as pd\n",
    "import matplotlib.pyplot as plt\n",
    "from sklearn.linear_model import LinearRegression\n",
    "x=np.array([4,5,6,9,12])\n",
    "print(x)\n",
    "x=x.reshape(-1,1)\n",
    "print(x)\n",
    "y=np.array([2,5,6,7,9])\n",
    "print(y)\n",
    "plt.scatter(x,y,c=\"red\")\n",
    "plt.show()"
   ]
  },
  {
   "cell_type": "code",
   "execution_count": 2,
   "id": "6b30a3bf",
   "metadata": {},
   "outputs": [
    {
     "name": "stdout",
     "output_type": "stream",
     "text": [
      "intercept: 0.5514018691588767\n",
      "coefficent: [0.72897196]\n",
      "r_sq: 0.8486539266285396\n",
      "ypred: [3.46728972 4.19626168 4.92523364 7.11214953 9.29906542]\n"
     ]
    },
    {
     "data": {
      "image/png": "[encoded data removed]",
      "text/plain": [
       "<Figure size 432x288 with 1 Axes>"
      ]
     },
     "metadata": {
      "needs_background": "light"
     },
     "output_type": "display_data"
    }
   ],
   "source": [
    "model=LinearRegression()\n",
    "model.fit(x,y)\n",
    "print(\"intercept:\",model.intercept_)\n",
    "print(\"coefficent:\",model.coef_)\n",
    "print(\"r_sq:\",model.score(x,y))\n",
    "ypred=model.predict(x)\n",
    "print(\"ypred:\",ypred)\n",
    "plt.scatter(x,y)\n",
    "plt.plot(x,ypred)\n",
    "plt.show()"
   ]
  },
  {
   "cell_type": "code",
   "execution_count": null,
   "id": "33d3a9c2",
   "metadata": {},
   "outputs": [],
   "source": []
  },
  {
   "cell_type": "code",
   "execution_count": 3,
   "id": "e4e025b1",
   "metadata": {},
   "outputs": [
    {
     "name": "stdout",
     "output_type": "stream",
     "text": [
      "[[0 1]\n",
      " [2 3]\n",
      " [4 5]\n",
      " [6 7]\n",
      " [8 9]]\n",
      "[2 5 6 7 9]\n"
     ]
    }
   ],
   "source": [
    "import numpy as np\n",
    "import pandas as pd\n",
    "import matplotlib.pyplot as plt\n",
    "from sklearn.linear_model import LinearRegression\n",
    "x=np.arange(10).reshape(-1,2)\n",
    "y=np.array([2,5,6,7,9])\n",
    "print(x)\n",
    "print(y)"
   ]
  },
  {
   "cell_type": "code",
   "execution_count": 4,
   "id": "ddb152ec",
   "metadata": {},
   "outputs": [
    {
     "name": "stdout",
     "output_type": "stream",
     "text": [
      "0.9552238805970149\n",
      "2.1999999999999993\n",
      "[0.4 0.4]\n",
      "[2.6 4.2 5.8 7.4 9. ]\n",
      "[[2.2 2.6]\n",
      " [3.  3.4]\n",
      " [3.8 4.2]\n",
      " [4.6 5. ]\n",
      " [5.4 5.8]]\n",
      "[ 2.6  4.2  5.8  7.4  9.  10.6 12.2 13.8 15.4 17. ]\n"
     ]
    }
   ],
   "source": [
    "model=LinearRegression()\n",
    "model.fit(x,y)\n",
    "r_sq=model.score(x,y)\n",
    "print(r_sq)\n",
    "print(model.intercept_)\n",
    "print(model.coef_)\n",
    "y_pred=model.predict(x)\n",
    "print(y_pred)\n",
    "print(model.intercept_+model.coef_*x)\n",
    "x_new=np.arange(20).reshape(-1,2)\n",
    "y_new=model.predict(x_new)\n",
    "print(y_new)"
   ]
  },
  {
   "cell_type": "code",
   "execution_count": 5,
   "id": "ef43bfa8",
   "metadata": {},
   "outputs": [
    {
     "name": "stdout",
     "output_type": "stream",
     "text": [
      "[[0]\n",
      " [1]\n",
      " [2]\n",
      " [3]\n",
      " [4]]\n",
      "[2 4 5 6 7]\n",
      "0.9922779922779923\n",
      "2.114285714285713\n",
      "[ 1.77142857 -0.14285714]\n",
      "[2.11428571 3.74285714 5.08571429 6.14285714 6.91428571]\n"
     ]
    }
   ],
   "source": [
    "import numpy as np\n",
    "import pandas as pd\n",
    "from sklearn.preprocessing import PolynomialFeatures\n",
    "x=np.arange(5).reshape(-1,1)\n",
    "y=np.array([2,4,5,6,7])\n",
    "print(x)\n",
    "print(y)\n",
    "transformer=PolynomialFeatures(degree=2,include_bias=False)\n",
    "transformer.fit(x)\n",
    "x_=transformer.transform(x)\n",
    "model=LinearRegression().fit(x_,y)\n",
    "r_sq=model.score(x_,y)\n",
    "print(r_sq)\n",
    "print(model.intercept_)\n",
    "print(model.coef_)\n",
    "y_pred=model.predict(x_)\n",
    "print(y_pred)\n",
    "\n",
    "\n"
   ]
  },
  {
   "cell_type": "code",
   "execution_count": 6,
   "id": "14113e6a",
   "metadata": {},
   "outputs": [
    {
     "name": "stdout",
     "output_type": "stream",
     "text": [
      "[[0 1]\n",
      " [2 3]\n",
      " [4 5]\n",
      " [6 7]\n",
      " [8 9]]\n",
      "[2 4 5 6 7]\n",
      "0.9922779922779923\n",
      "1.6654761904761832\n",
      "[ 0.23035714  0.23035714 -0.2422619  -0.01190476  0.21845238]\n",
      "[2.11428571 3.74285714 5.08571429 6.14285714 6.91428571]\n"
     ]
    }
   ],
   "source": [
    "import numpy as np\n",
    "import pandas as pd\n",
    "from sklearn.preprocessing import PolynomialFeatures\n",
    "x=np.arange(10).reshape(-1,2)\n",
    "y=np.array([2,4,5,6,7])\n",
    "print(x)\n",
    "print(y)\n",
    "transformer=PolynomialFeatures(degree=2,include_bias=False)\n",
    "transformer.fit(x)\n",
    "x_=transformer.transform(x)\n",
    "model=LinearRegression().fit(x_,y)\n",
    "r_sq=model.score(x_,y)\n",
    "print(r_sq)\n",
    "print(model.intercept_)\n",
    "print(model.coef_)\n",
    "y_pred=model.predict(x_)\n",
    "print(y_pred)\n",
    "\n",
    "\n"
   ]
  },
  {
   "cell_type": "code",
   "execution_count": 4,
   "id": "f63d6429",
   "metadata": {},
   "outputs": [
    {
     "name": "stdout",
     "output_type": "stream",
     "text": [
      "[[ 1]\n",
      " [ 2]\n",
      " [ 3]\n",
      " [ 4]\n",
      " [ 5]\n",
      " [ 6]\n",
      " [ 7]\n",
      " [ 8]\n",
      " [ 9]\n",
      " [10]]\n",
      "x_train [[ 7]\n",
      " [ 6]\n",
      " [ 9]\n",
      " [ 8]\n",
      " [ 3]\n",
      " [10]\n",
      " [ 2]]\n",
      "y_train [ 49  36  91  77   9 111   4]\n",
      "x_test [[4]\n",
      " [5]\n",
      " [1]]\n",
      "y_test [16 25  1]\n"
     ]
    }
   ],
   "source": [
    "#test train split\n",
    "import pandas as pd\n",
    "import numpy as np\n",
    "from sklearn.linear_model import LinearRegression\n",
    "from sklearn.model_selection import train_test_split\n",
    "x=np.arange(1,11,1).reshape(-1,1)\n",
    "print(x)\n",
    "y=np.array([1,4,9,16,25,36,49,77,91,111])\n",
    "x_train,x_test,y_train,y_test=train_test_split(x,y)\n",
    "model=LinearRegression()\n",
    "model.fit(x_train,y_train)\n",
    "print(\"x_train\",x_train)\n",
    "print(\"y_train\",y_train)\n",
    "print(\"x_test\",x_test)\n",
    "print(\"y_test\",y_test)"
   ]
  },
  {
   "cell_type": "code",
   "execution_count": 15,
   "id": "0fc610b7",
   "metadata": {},
   "outputs": [
    {
     "data": {
      "image/png": "[encoded data removed]",
      "text/plain": [
       "<Figure size 432x288 with 1 Axes>"
      ]
     },
     "metadata": {
      "needs_background": "light"
     },
     "output_type": "display_data"
    }
   ],
   "source": [
    "import pandas as pd\n",
    "import matplotlib.pyplot as plt\n",
    "import seaborn as sns\n",
    "df=pd.read_csv(\"work.csv\")\n",
    "df\n",
    "sns.countplot(x=\"Attrition\",data=df)\n",
    "plt.show()\n"
   ]
  },
  {
   "cell_type": "code",
   "execution_count": 16,
   "id": "463d2b3e",
   "metadata": {},
   "outputs": [
    {
     "data": {
      "image/png": "[encoded data removed]",
      "text/plain": [
       "<Figure size 432x288 with 1 Axes>"
      ]
     },
     "metadata": {
      "needs_background": "light"
     },
     "output_type": "display_data"
    }
   ],
   "source": [
    "import pandas as pd\n",
    "import matplotlib.pyplot as plt\n",
    "import seaborn as sns\n",
    "df=pd.read_csv(\"work.csv\")\n",
    "df\n",
    "sns.countplot(x=\"Age\",data=df)\n",
    "plt.show()\n"
   ]
  },
  {
   "cell_type": "code",
   "execution_count": null,
   "id": "a350165b",
   "metadata": {},
   "outputs": [],
   "source": []
  }
 ],
 "metadata": {
  "kernelspec": {
   "display_name": "Python 3 (ipykernel)",
   "language": "python",
   "name": "python3"
  },
  "language_info": {
   "codemirror_mode": {
    "name": "ipython",
    "version": 3
   },
   "file_extension": ".py",
   "mimetype": "text/x-python",
   "name": "python",
   "nbconvert_exporter": "python",
   "pygments_lexer": "ipython3",
   "version": "3.10.5"
  }
 },
 "nbformat": 4,
 "nbformat_minor": 5
}
