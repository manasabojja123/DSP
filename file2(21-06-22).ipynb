{
 "cells": [
  {
   "cell_type": "code",
   "execution_count": 12,
   "id": "264d0a93",
   "metadata": {},
   "outputs": [
    {
     "name": "stdout",
     "output_type": "stream",
     "text": [
      "abcdejeeueuejj\n",
      "\n",
      "***^5$$4\n",
      "\n",
      "hello world\n",
      "\n",
      "good luckhai manasahai manasahello manasahai manasahello manasahai manasahello manasahai manasahello manasahai manasa\n"
     ]
    }
   ],
   "source": [
    "f=open(\"new1.txt\",\"r\")\n",
    "f=open(\"new1.txt\",\"a\")\n",
    "f.write(\"hai manasa\")\n",
    "f=open(\"new1.txt\",\"r\")\n",
    "for i in f:\n",
    "    print(i)\n",
    "f.close()\n",
    "\n"
   ]
  },
  {
   "cell_type": "code",
   "execution_count": 14,
   "id": "0f64cecf",
   "metadata": {},
   "outputs": [
    {
     "name": "stdout",
     "output_type": "stream",
     "text": [
      "abcdejeeueuejj\n",
      "\n",
      "***^5$$4\n",
      "\n",
      "hello world\n",
      "\n",
      "good luckhai manasahai manasahello manasahai manasahello manasahai manasahello manasahai manasahello manasahai manasa\n"
     ]
    }
   ],
   "source": [
    "f=open(\"new1.txt\",\"r\")\n",
    "for i in f:\n",
    "    print(i)\n",
    "f.close()"
   ]
  },
  {
   "cell_type": "code",
   "execution_count": 15,
   "id": "64965fa0",
   "metadata": {},
   "outputs": [
    {
     "name": "stdout",
     "output_type": "stream",
     "text": [
      "abcdeseeADHFHJDFHJ***123%^&*\n"
     ]
    }
   ],
   "source": [
    "f=open(\"new1.txt\",\"w\")\n",
    "f.write(\"abcdeseeADHFHJDFHJ***123%^&*\")\n",
    "f=open(\"new1.txt\",\"r\")\n",
    "print(f.read())\n",
    "f.close()"
   ]
  },
  {
   "cell_type": "code",
   "execution_count": 31,
   "id": "a62ed894",
   "metadata": {},
   "outputs": [],
   "source": [
    "f=open(\"new1.txt\",\"w\")\n",
    "f1=open(\"upper.txt\",\"a\")\n",
    "f2=open(\"lower.txt\",\"a\")\n",
    "f3=open(\"num.txt\",\"a\")\n",
    "f4=open(\"spec.txt\",\"a\")\n",
    "\n",
    "\n",
    "f.write(\"abcdeseeADHFHJDFHJ***123%^&*\")\n",
    "f.close()\n",
    "f=open(\"new1.txt\",\"r\")\n",
    "x=f.read()\n",
    "\n",
    "\n",
    "for i in x:\n",
    "    if(i.isalnum()):\n",
    "        if(i.islower()):\n",
    "            f2.write(i)\n",
    "        elif(i.isupper()):\n",
    "            f1.write(i)\n",
    "        else:\n",
    "            f3.write(i)\n",
    "    else:\n",
    "        f4.write(i)\n",
    "            \n",
    "        \n",
    "            \n",
    "    \n",
    "\n",
    "f.close()\n",
    "f1.close()\n",
    "f2.close()\n",
    "f3.close()\n",
    "f4.close()\n"
   ]
  },
  {
   "cell_type": "code",
   "execution_count": 32,
   "id": "3942d564",
   "metadata": {},
   "outputs": [
    {
     "name": "stdout",
     "output_type": "stream",
     "text": [
      "ADHFHJDFHJADHFHJDFHJADHFHJDFHJ\n",
      "abcdeseeabcdeseeabcdesee\n",
      "123123\n",
      "abcdeseeADHFHJDFHJ***123%^&*abcdeseeADHFHJDFHJ***123%^&*abcdeseeADHFHJDFHJ***123%^&****%^&****%^&*\n"
     ]
    }
   ],
   "source": [
    "f1=open(\"upper.txt\",\"r\")\n",
    "print(f1.read())\n",
    "f1.close()\n",
    "f2=open(\"lower.txt\",\"r\")\n",
    "print(f2.read())\n",
    "f2.close()\n",
    "f3=open(\"num.txt\",\"r\")\n",
    "print(f3.read())\n",
    "f3.close()\n",
    "f4=open(\"spec.txt\",\"r\")\n",
    "print(f4.read())\n",
    "f4.close()\n",
    "\n",
    "\n"
   ]
  },
  {
   "cell_type": "code",
   "execution_count": null,
   "id": "60aa44ce",
   "metadata": {},
   "outputs": [],
   "source": []
  }
 ],
 "metadata": {
  "kernelspec": {
   "display_name": "Python 3 (ipykernel)",
   "language": "python",
   "name": "python3"
  },
  "language_info": {
   "codemirror_mode": {
    "name": "ipython",
    "version": 3
   },
   "file_extension": ".py",
   "mimetype": "text/x-python",
   "name": "python",
   "nbconvert_exporter": "python",
   "pygments_lexer": "ipython3",
   "version": "3.10.5"
  }
 },
 "nbformat": 4,
 "nbformat_minor": 5
}
